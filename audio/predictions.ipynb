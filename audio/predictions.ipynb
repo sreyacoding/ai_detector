{
 "cells": [
  {
   "cell_type": "code",
   "execution_count": 1,
   "id": "a4035cd7-791b-4ee0-aa7e-8bca0158bafd",
   "metadata": {},
   "outputs": [
    {
     "name": "stdout",
     "output_type": "stream",
     "text": [
      "Predicted class: [0]\n",
      "Predicted probabilities: [[0.9686394  0.03136061]]\n"
     ]
    },
    {
     "name": "stderr",
     "output_type": "stream",
     "text": [
      "C:\\Users\\hiran\\anaconda3\\Lib\\site-packages\\librosa\\core\\pitch.py:101: UserWarning: Trying to estimate tuning from empty frequency set.\n",
      "  return pitch_tuning(\n"
     ]
    }
   ],
   "source": [
    "import librosa\n",
    "import numpy as np\n",
    "import xgboost as xgb\n",
    "\n",
    "# Feature extraction functions\n",
    "def extract_mfcc(y):\n",
    "    return np.mean(librosa.feature.mfcc(y=y, sr=16000, n_mfcc=13).T, axis=0)\n",
    "\n",
    "def extract_delta(y):\n",
    "    return np.mean(librosa.feature.delta(librosa.feature.mfcc(y=y, sr=16000, n_mfcc=13)).T, axis=0)\n",
    "\n",
    "def extract_mel_spectrogram(y):\n",
    "    return np.mean(librosa.power_to_db(librosa.feature.melspectrogram(y=y, sr=16000), ref=np.max).T, axis=0)\n",
    "\n",
    "def extract_zero_crossing_rate(y):\n",
    "    return np.mean(librosa.feature.zero_crossing_rate(y).T, axis=0)\n",
    "\n",
    "def extract_chroma(y):\n",
    "    return np.mean(librosa.feature.chroma_stft(y=y, sr=16000).T, axis=0)\n",
    "\n",
    "def extract_cqt(y):\n",
    "    return np.mean(np.abs(librosa.cqt(y, sr=16000)).T, axis=0)\n",
    "\n",
    "# Preprocess the audio and extract features\n",
    "def preprocess_and_extract_features(file):\n",
    "    y, sr = librosa.load(file, sr=16000)  # Load the audio file\n",
    "\n",
    "    # Trim silence\n",
    "    y, _ = librosa.effects.trim(y)\n",
    "\n",
    "    # Pad or truncate to 5 seconds\n",
    "    max_len = sr * 5\n",
    "    if len(y) < max_len:\n",
    "        y = np.pad(y, (0, max_len - len(y)), mode='constant')\n",
    "    else:\n",
    "        y = y[:max_len]\n",
    "\n",
    "    # Extract features\n",
    "    mfcc = extract_mfcc(y)\n",
    "    delta_mfcc = extract_delta(y)\n",
    "    mel_spectrogram = extract_mel_spectrogram(y)\n",
    "    zcr = np.array([extract_zero_crossing_rate(y)])  # Make it a 1D array\n",
    "    chroma = extract_chroma(y)\n",
    "    cqt = extract_cqt(y)\n",
    "\n",
    "    # Combine all extracted features into one feature vector (flattened)\n",
    "    return np.concatenate([mfcc.flatten(), delta_mfcc.flatten(), mel_spectrogram.flatten(), zcr.flatten(), chroma.flatten(), cqt.flatten()])\n",
    "\n",
    "# Load pre-trained XGBoost model and make predictions\n",
    "def predict_audio_class(file, model_path):\n",
    "    # Load the XGBoost model\n",
    "    model = xgb.XGBClassifier()\n",
    "    model.load_model(model_path)\n",
    "\n",
    "    # Preprocess the audio file and extract features\n",
    "    features = preprocess_and_extract_features(file)\n",
    "\n",
    "    # Convert features to 2D array (1 sample) for prediction\n",
    "    features = np.array([features])\n",
    "\n",
    "    # Make predictions\n",
    "    prediction = model.predict(features)\n",
    "    probability = model.predict_proba(features)\n",
    "\n",
    "    return prediction, probability\n",
    "\n",
    "# File path and model\n",
    "audio_file = r\"C:\\Users\\hiran\\Downloads\\What_ Short video clip designed with Canva.mp3\"\n",
    "model_path = r\"C:\\Users\\hiran\\AI 1 0\\Audio\\XGBoost\\xgb_audio_model.json\"\n",
    "\n",
    "# Predict the class for the audio file\n",
    "predicted_class, predicted_proba = predict_audio_class(audio_file, model_path)\n",
    "\n",
    "# Output results\n",
    "print(f\"Predicted class: {predicted_class}\")\n",
    "print(f\"Predicted probabilities: {predicted_proba}\")"
   ]
  }
 ],
 "metadata": {
  "kernelspec": {
   "display_name": "Python 3 (ipykernel)",
   "language": "python",
   "name": "python3"
  },
  "language_info": {
   "codemirror_mode": {
    "name": "ipython",
    "version": 3
   },
   "file_extension": ".py",
   "mimetype": "text/x-python",
   "name": "python",
   "nbconvert_exporter": "python",
   "pygments_lexer": "ipython3",
   "version": "3.12.3"
  }
 },
 "nbformat": 4,
 "nbformat_minor": 5
}
