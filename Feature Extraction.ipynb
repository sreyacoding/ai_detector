{
 "cells": [
  {
   "cell_type": "code",
   "execution_count": 1,
   "id": "ec2ca9fd-0830-4cf2-939d-75093768dcb1",
   "metadata": {},
   "outputs": [],
   "source": [
    "import librosa\n",
    "import librosa.display\n",
    "import IPython.display as ipd\n",
    "import os\n",
    "import numpy as np"
   ]
  },
  {
   "cell_type": "code",
   "execution_count": 109,
   "id": "669c274b-07cc-42f5-962f-61ba8482f3a5",
   "metadata": {},
   "outputs": [
    {
     "name": "stderr",
     "output_type": "stream",
     "text": [
      "C:\\Users\\hiran\\anaconda3\\Lib\\site-packages\\librosa\\core\\pitch.py:101: UserWarning: Trying to estimate tuning from empty frequency set.\n",
      "  return pitch_tuning(\n"
     ]
    },
    {
     "name": "stdout",
     "output_type": "stream",
     "text": [
      "Feature extraction and saving complete!\n"
     ]
    }
   ],
   "source": [
    "import os\n",
    "import random\n",
    "import numpy as np\n",
    "import pandas as pd\n",
    "import librosa\n",
    "\n",
    "# Collect audio files from the last level of subdirectories\n",
    "def collect_audio_files_dfs(root_dir, num_files_per_dir=20):\n",
    "    selected_files = []\n",
    "    for dirpath, dirnames, filenames in os.walk(root_dir):\n",
    "        if not dirnames:  # Check if there are no more subdirectories\n",
    "            audio_files = [os.path.join(dirpath, file) for file in filenames if file.endswith('.wav') or file.endswith('.flac')]\n",
    "            selected_files.extend(random.sample(audio_files, min(num_files_per_dir, len(audio_files))))\n",
    "    return selected_files\n",
    "\n",
    "# Feature extraction functions\n",
    "def extract_mfcc(y):\n",
    "    return np.mean(librosa.feature.mfcc(y=y, sr=16000, n_mfcc=13).T, axis=0)\n",
    "\n",
    "def extract_delta(y):\n",
    "    return np.mean(librosa.feature.delta(librosa.feature.mfcc(y=y, sr=16000, n_mfcc=13)).T, axis=0)\n",
    "\n",
    "def extract_mel_spectrogram(y):\n",
    "    return np.mean(librosa.power_to_db(librosa.feature.melspectrogram(y=y, sr=16000), ref=np.max).T, axis=0)\n",
    "\n",
    "def extract_zero_crossing_rate(y):\n",
    "    return np.mean(librosa.feature.zero_crossing_rate(y).T, axis=0)\n",
    "\n",
    "def extract_chroma(y):\n",
    "    return np.mean(librosa.feature.chroma_stft(y=y, sr=16000).T, axis=0)\n",
    "\n",
    "def extract_cqt(y):\n",
    "    return np.mean(np.abs(librosa.cqt(y, sr=16000)).T, axis=0)\n",
    "\n",
    "# Preprocess audio and extract features\n",
    "def preprocess_and_extract_features(file):\n",
    "    y, sr = librosa.load(file, sr=16000)  # Load the audio file\n",
    "\n",
    "    # Trim silence from the beginning and end\n",
    "    y, _ = librosa.effects.trim(y)\n",
    "\n",
    "    # Pad or truncate to ensure audio is 5 seconds long\n",
    "    max_len = sr * 5\n",
    "    if len(y) < max_len:\n",
    "        y = np.pad(y, (0, max_len - len(y)), mode='constant')\n",
    "    else:\n",
    "        y = y[:max_len]\n",
    "\n",
    "    # Extract features\n",
    "    mfcc = extract_mfcc(y)\n",
    "    delta_mfcc = extract_delta(y)\n",
    "    mel_spectrogram = extract_mel_spectrogram(y)\n",
    "    zcr = extract_zero_crossing_rate(y)\n",
    "    chroma = extract_chroma(y)\n",
    "    cqt = extract_cqt(y)\n",
    "\n",
    "    return [mfcc, delta_mfcc, mel_spectrogram, zcr, chroma, cqt]\n",
    "\n",
    "# Process audio files and save features\n",
    "def process_audio_files(audio_files, label, file_prefix):\n",
    "    features_list = []\n",
    "    for file in audio_files:\n",
    "        try:\n",
    "            features = preprocess_and_extract_features(file)\n",
    "            combined_features = [file] + list(np.concatenate(features)) + [label]\n",
    "            features_list.append(combined_features)\n",
    "        except Exception as e:\n",
    "            print(f\"Error processing {file}: {e}\")\n",
    "\n",
    "    # Define headers for the CSV file\n",
    "    headers = ['filename'] + \\\n",
    "              [f'mfcc_{i}' for i in range(13)] + \\\n",
    "              [f'delta_mfcc_{i}' for i in range(13)] + \\\n",
    "              [f'mel_spectrogram_{i}' for i in range(128)] + \\\n",
    "              ['zcr'] + \\\n",
    "              [f'chroma_{i}' for i in range(12)] + \\\n",
    "              [f'cqt_{i}' for i in range(84)] + \\\n",
    "              ['label']\n",
    "\n",
    "    # Save features to CSV\n",
    "    df = pd.DataFrame(features_list, columns=headers)\n",
    "    df.to_csv(f'{file_prefix}_audio_features.csv', index=False)\n",
    "\n",
    "fake_directory = r\"C:\\Users\\hiran\\Downloads\\TIMIT-TTS\\TIMIT-TTS\"\n",
    "real_directory = r\"C:\\Users\\hiran\\Downloads\\train-clean-100\\LibriSpeech\\train-clean-100\"\n",
    "\n",
    "fake_audio_files = collect_audio_files_dfs(fake_directory, num_files_per_dir=6)\n",
    "real_audio_files = collect_audio_files_dfs(real_directory, num_files_per_dir=2)\n",
    "\n",
    "# Process and save features\n",
    "process_audio_files(fake_audio_files, label=1, file_prefix='fake')\n",
    "process_audio_files(real_audio_files, label=0, file_prefix='real')\n",
    "\n",
    "print(\"Feature extraction and saving complete!\")"
   ]
  }
 ],
 "metadata": {
  "kernelspec": {
   "display_name": "Python 3 (ipykernel)",
   "language": "python",
   "name": "python3"
  },
  "language_info": {
   "codemirror_mode": {
    "name": "ipython",
    "version": 3
   },
   "file_extension": ".py",
   "mimetype": "text/x-python",
   "name": "python",
   "nbconvert_exporter": "python",
   "pygments_lexer": "ipython3",
   "version": "3.12.3"
  }
 },
 "nbformat": 4,
 "nbformat_minor": 5
}
